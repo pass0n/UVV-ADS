{
 "cells": [
  {
   "cell_type": "code",
   "execution_count": null,
   "metadata": {
    "colab": {
     "base_uri": "https://localhost:8080/"
    },
    "id": "kFiB0I48q_O1",
    "outputId": "4448aa43-c24a-40d3-a391-49cc6328ff82"
   },
   "outputs": [],
   "source": [
    "import numpy as np\n",
    "\n",
    "arr1 = np.array([1.1, 1.2, 1.3, 1.4, 1.5])\n",
    "arr2 = np.arange(4)\n",
    "condicional = np.array([True, False, True, True, False])\n",
    "\n",
    "arr2_resized = np.resize(arr2, condicional.shape)\n",
    "\n",
    "resultado = np.where(condicional, arr1, arr2_resized)\n",
    "\n",
    "print(\"Resultado:\", resultado)"
   ]
  }
 ],
 "metadata": {
  "colab": {
   "provenance": []
  },
  "kernelspec": {
   "display_name": "Python 3",
   "name": "python3"
  },
  "language_info": {
   "name": "python"
  }
 },
 "nbformat": 4,
 "nbformat_minor": 0
}
